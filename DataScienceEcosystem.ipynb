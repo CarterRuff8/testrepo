{
 "cells": [
  {
   "cell_type": "markdown",
   "id": "b3106cd4-d238-4e6d-a784-64154719a59d",
   "metadata": {},
   "source": [
    "# Data Science Tools and Ecosystem"
   ]
  },
  {
   "cell_type": "markdown",
   "id": "7bacc891-fd5a-4614-a153-7fdcc4687485",
   "metadata": {},
   "source": [
    "In this notebook, Data Science Tools and Ecosystem are summarized."
   ]
  },
  {
   "cell_type": "markdown",
   "id": "54fe40a2-70a4-4a38-90d4-d1b3a0919f84",
   "metadata": {},
   "source": [
    "**Objectives:**\n",
    "- list popular languages used in Data Science\n",
    "- list common libraries used in Data Science\n",
    "- list data science tools\n"
   ]
  },
  {
   "cell_type": "markdown",
   "id": "b17b805e-150c-4daa-9736-8679f1b75c7e",
   "metadata": {},
   "source": [
    "Some of the popular languages that Data Scientists use are:\n",
    "\n",
    "1. Python\n",
    "2. R\n",
    "3. SQL"
   ]
  },
  {
   "cell_type": "markdown",
   "id": "3cee90be-7277-47d1-a259-d3069657f824",
   "metadata": {},
   "source": [
    "Some of the commonly used libraries used by Data Scientists include:\n",
    "\n",
    "1. Pandas\n",
    "2. ggplot2\n",
    "3. Matplotlib"
   ]
  },
  {
   "cell_type": "markdown",
   "id": "7b676ab6-8b20-47d6-9d42-21c619ae9ae9",
   "metadata": {},
   "source": [
    "|Data Science Tools|\n",
    "|--------|\n",
    "|Git|\n",
    "|Anaconda|\n",
    "|Visual Studio|"
   ]
  },
  {
   "cell_type": "markdown",
   "id": "a867181d-c657-43ae-ac0f-1f81735acea1",
   "metadata": {},
   "source": [
    "### Below are a few examples of evaluating arithmetic expressions in Python."
   ]
  },
  {
   "cell_type": "code",
   "execution_count": 5,
   "id": "332c7a5c-fbb5-4676-817a-86583234b126",
   "metadata": {},
   "outputs": [
    {
     "data": {
      "text/plain": [
       "17"
      ]
     },
     "execution_count": 5,
     "metadata": {},
     "output_type": "execute_result"
    }
   ],
   "source": [
    "# This a simple arithmetic expression to mutiply then add integers.\n",
    "(3*4)+5"
   ]
  },
  {
   "cell_type": "code",
   "execution_count": 7,
   "id": "09cf29af-21ba-46b7-8c18-8f364a1bd7d3",
   "metadata": {},
   "outputs": [
    {
     "data": {
      "text/plain": [
       "3.3333333333333335"
      ]
     },
     "execution_count": 7,
     "metadata": {},
     "output_type": "execute_result"
    }
   ],
   "source": [
    "# This will convert 200 minutes to hours by diving by 60\n",
    "200/60"
   ]
  },
  {
   "cell_type": "markdown",
   "id": "c001d771-35dd-40eb-8505-b36eca18d4d7",
   "metadata": {},
   "source": [
    "## Author\n",
    "Carter Ruff"
   ]
  },
  {
   "cell_type": "code",
   "execution_count": null,
   "id": "a3d1bd42-4fed-47eb-8f95-65a5762bb0da",
   "metadata": {},
   "outputs": [],
   "source": []
  }
 ],
 "metadata": {
  "kernelspec": {
   "display_name": "Python 3 (ipykernel)",
   "language": "python",
   "name": "python3"
  },
  "language_info": {
   "codemirror_mode": {
    "name": "ipython",
    "version": 3
   },
   "file_extension": ".py",
   "mimetype": "text/x-python",
   "name": "python",
   "nbconvert_exporter": "python",
   "pygments_lexer": "ipython3",
   "version": "3.12.9"
  }
 },
 "nbformat": 4,
 "nbformat_minor": 5
}
